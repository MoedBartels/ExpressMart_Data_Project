{
 "cells": [
  {
   "cell_type": "markdown",
   "id": "d0479ded",
   "metadata": {},
   "source": [
    "# OPTIMIZING SALES AND IMPROVING CUSTOMER EXPERIENCE AT EXPRESSMART"
   ]
  },
  {
   "cell_type": "markdown",
   "id": "b793e12e",
   "metadata": {},
   "source": [
    "## Introduction: \n",
    "\n",
    "This project focuses on providing a comprehensive analysis of sales data across multiple dimensions, including time of day, month, product performance, and regional sales. The data used in this analysis, _ExpressMartData_, want provided by [***Only Quality Data.***](https://sites.google.com/onlyqualitydata.com/onlyqualitydata-internships/home)\n",
    "\n",
    "## Objective: \n",
    "The objective of the ExpressMart Sales Performance Analysis Project is to uncover insights into customer purchasing behaviours, identify peak sales periods, and analyse top-performing products, regional sales performance, and customer purchasing patterns. This analysis will assist ExpressMart in optimizing staffing, inventory management, and marketing strategies while enhancing customer experience and overall sales performance.\n",
    "\n",
    "## Dataset Overview\n",
    "1.\tOrder Id: A unique identifier for each order\n",
    "2.\tProduct: Indicates the product ordered by the customer.\n",
    "3.\tQuantity Ordered: The quantity ordered by customer. \n",
    "4.\tPrice: The price of the product\n",
    "5.\tOrder Date: The date the order was made. \n",
    "6.\tPurchase Address: The Purchase address of the customer \n",
    "7.\tTime: The time of day the order was made\n",
    "8.\tSales: How much revenue was made from that order. Obtained by multiplying quantity ordered with price\n",
    "\n",
    "\n"
   ]
  },
  {
   "cell_type": "code",
   "execution_count": 29,
   "id": "d27da675",
   "metadata": {},
   "outputs": [],
   "source": [
    "# Importing relevant libraries\n",
    "import pandas as pd\n",
    "import matplotlib.pyplot as plt\n",
    "import seaborn as sns"
   ]
  },
  {
   "cell_type": "code",
   "execution_count": 19,
   "id": "52847743",
   "metadata": {},
   "outputs": [],
   "source": [
    "# load expressmart dataset\n",
    "expressmart_df= pd.read_excel(\"ExpressMartData. - Copy 2.xlsx\")"
   ]
  },
  {
   "cell_type": "code",
   "execution_count": 20,
   "id": "622eeb8f",
   "metadata": {},
   "outputs": [
    {
     "data": {
      "text/html": [
       "<div>\n",
       "<style scoped>\n",
       "    .dataframe tbody tr th:only-of-type {\n",
       "        vertical-align: middle;\n",
       "    }\n",
       "\n",
       "    .dataframe tbody tr th {\n",
       "        vertical-align: top;\n",
       "    }\n",
       "\n",
       "    .dataframe thead th {\n",
       "        text-align: right;\n",
       "    }\n",
       "</style>\n",
       "<table border=\"1\" class=\"dataframe\">\n",
       "  <thead>\n",
       "    <tr style=\"text-align: right;\">\n",
       "      <th></th>\n",
       "      <th>Order ID</th>\n",
       "      <th>Product</th>\n",
       "      <th>Quantity Ordered</th>\n",
       "      <th>Price Each</th>\n",
       "      <th>Order Date</th>\n",
       "      <th>Purchase Address</th>\n",
       "      <th>Time</th>\n",
       "      <th>Sales</th>\n",
       "    </tr>\n",
       "  </thead>\n",
       "  <tbody>\n",
       "    <tr>\n",
       "      <th>0</th>\n",
       "      <td>295665</td>\n",
       "      <td>Macbook Pro Laptop</td>\n",
       "      <td>1</td>\n",
       "      <td>1700.00</td>\n",
       "      <td>2019-12-30</td>\n",
       "      <td>136 Church St, New York City, NY 10001</td>\n",
       "      <td>00:01:00</td>\n",
       "      <td>1700.00</td>\n",
       "    </tr>\n",
       "    <tr>\n",
       "      <th>1</th>\n",
       "      <td>295666</td>\n",
       "      <td>LG Washing Machine</td>\n",
       "      <td>1</td>\n",
       "      <td>600.00</td>\n",
       "      <td>2019-12-29</td>\n",
       "      <td>562 2nd St, New York City, NY 10001</td>\n",
       "      <td>07:03:00</td>\n",
       "      <td>600.00</td>\n",
       "    </tr>\n",
       "    <tr>\n",
       "      <th>2</th>\n",
       "      <td>295667</td>\n",
       "      <td>USB-C Charging Cable</td>\n",
       "      <td>1</td>\n",
       "      <td>11.95</td>\n",
       "      <td>2019-12-12</td>\n",
       "      <td>277 Main St, New York City, NY 10001</td>\n",
       "      <td>18:21:00</td>\n",
       "      <td>11.95</td>\n",
       "    </tr>\n",
       "    <tr>\n",
       "      <th>3</th>\n",
       "      <td>295668</td>\n",
       "      <td>27in FHD Monitor</td>\n",
       "      <td>1</td>\n",
       "      <td>149.99</td>\n",
       "      <td>2019-12-22</td>\n",
       "      <td>410 6th St, San Francisco, CA 94016</td>\n",
       "      <td>15:13:00</td>\n",
       "      <td>149.99</td>\n",
       "    </tr>\n",
       "    <tr>\n",
       "      <th>4</th>\n",
       "      <td>295669</td>\n",
       "      <td>USB-C Charging Cable</td>\n",
       "      <td>1</td>\n",
       "      <td>11.95</td>\n",
       "      <td>2019-12-18</td>\n",
       "      <td>43 Hill St, Atlanta, GA 30301</td>\n",
       "      <td>12:38:00</td>\n",
       "      <td>11.95</td>\n",
       "    </tr>\n",
       "  </tbody>\n",
       "</table>\n",
       "</div>"
      ],
      "text/plain": [
       "   Order ID               Product  Quantity Ordered  Price Each Order Date  \\\n",
       "0    295665    Macbook Pro Laptop                 1     1700.00 2019-12-30   \n",
       "1    295666    LG Washing Machine                 1      600.00 2019-12-29   \n",
       "2    295667  USB-C Charging Cable                 1       11.95 2019-12-12   \n",
       "3    295668      27in FHD Monitor                 1      149.99 2019-12-22   \n",
       "4    295669  USB-C Charging Cable                 1       11.95 2019-12-18   \n",
       "\n",
       "                         Purchase Address      Time    Sales  \n",
       "0  136 Church St, New York City, NY 10001  00:01:00  1700.00  \n",
       "1     562 2nd St, New York City, NY 10001  07:03:00   600.00  \n",
       "2    277 Main St, New York City, NY 10001  18:21:00    11.95  \n",
       "3     410 6th St, San Francisco, CA 94016  15:13:00   149.99  \n",
       "4           43 Hill St, Atlanta, GA 30301  12:38:00    11.95  "
      ]
     },
     "execution_count": 20,
     "metadata": {},
     "output_type": "execute_result"
    }
   ],
   "source": [
    "# load the first 5 rows\n",
    "expressmart_df.head()"
   ]
  },
  {
   "cell_type": "code",
   "execution_count": 21,
   "id": "b31ec5b8",
   "metadata": {
    "scrolled": true
   },
   "outputs": [
    {
     "name": "stdout",
     "output_type": "stream",
     "text": [
      "<class 'pandas.core.frame.DataFrame'>\n",
      "RangeIndex: 185950 entries, 0 to 185949\n",
      "Data columns (total 8 columns):\n",
      " #   Column            Non-Null Count   Dtype         \n",
      "---  ------            --------------   -----         \n",
      " 0   Order ID          185950 non-null  int64         \n",
      " 1   Product           185950 non-null  object        \n",
      " 2   Quantity Ordered  185950 non-null  int64         \n",
      " 3   Price Each        185950 non-null  float64       \n",
      " 4   Order Date        185950 non-null  datetime64[ns]\n",
      " 5   Purchase Address  185950 non-null  object        \n",
      " 6   Time              185950 non-null  object        \n",
      " 7   Sales             185950 non-null  float64       \n",
      "dtypes: datetime64[ns](1), float64(2), int64(2), object(3)\n",
      "memory usage: 11.3+ MB\n"
     ]
    }
   ],
   "source": [
    "#checking the data types of the columns\n",
    "expressmart_df.info()"
   ]
  },
  {
   "cell_type": "code",
   "execution_count": 22,
   "id": "ad248b4e",
   "metadata": {},
   "outputs": [
    {
     "data": {
      "text/plain": [
       "Index(['Order ID', 'Product', 'Quantity Ordered', 'Price Each', 'Order Date',\n",
       "       'Purchase Address', 'Time', 'Sales'],\n",
       "      dtype='object')"
      ]
     },
     "execution_count": 22,
     "metadata": {},
     "output_type": "execute_result"
    }
   ],
   "source": [
    "expressmart_df.columns"
   ]
  },
  {
   "cell_type": "code",
   "execution_count": null,
   "id": "8ef3b6bb",
   "metadata": {},
   "outputs": [],
   "source": []
  },
  {
   "cell_type": "markdown",
   "id": "05e97dcd",
   "metadata": {},
   "source": [
    "### Transforming the Data"
   ]
  },
  {
   "cell_type": "code",
   "execution_count": 23,
   "id": "5f48161e",
   "metadata": {},
   "outputs": [
    {
     "data": {
      "text/html": [
       "<div>\n",
       "<style scoped>\n",
       "    .dataframe tbody tr th:only-of-type {\n",
       "        vertical-align: middle;\n",
       "    }\n",
       "\n",
       "    .dataframe tbody tr th {\n",
       "        vertical-align: top;\n",
       "    }\n",
       "\n",
       "    .dataframe thead th {\n",
       "        text-align: right;\n",
       "    }\n",
       "</style>\n",
       "<table border=\"1\" class=\"dataframe\">\n",
       "  <thead>\n",
       "    <tr style=\"text-align: right;\">\n",
       "      <th></th>\n",
       "      <th>Time</th>\n",
       "      <th>Hour</th>\n",
       "    </tr>\n",
       "  </thead>\n",
       "  <tbody>\n",
       "    <tr>\n",
       "      <th>0</th>\n",
       "      <td>00:01:00</td>\n",
       "      <td>0</td>\n",
       "    </tr>\n",
       "    <tr>\n",
       "      <th>1</th>\n",
       "      <td>07:03:00</td>\n",
       "      <td>7</td>\n",
       "    </tr>\n",
       "    <tr>\n",
       "      <th>2</th>\n",
       "      <td>18:21:00</td>\n",
       "      <td>18</td>\n",
       "    </tr>\n",
       "    <tr>\n",
       "      <th>3</th>\n",
       "      <td>15:13:00</td>\n",
       "      <td>15</td>\n",
       "    </tr>\n",
       "    <tr>\n",
       "      <th>4</th>\n",
       "      <td>12:38:00</td>\n",
       "      <td>12</td>\n",
       "    </tr>\n",
       "    <tr>\n",
       "      <th>...</th>\n",
       "      <td>...</td>\n",
       "      <td>...</td>\n",
       "    </tr>\n",
       "    <tr>\n",
       "      <th>185945</th>\n",
       "      <td>19:02:00</td>\n",
       "      <td>19</td>\n",
       "    </tr>\n",
       "    <tr>\n",
       "      <th>185946</th>\n",
       "      <td>19:29:00</td>\n",
       "      <td>19</td>\n",
       "    </tr>\n",
       "    <tr>\n",
       "      <th>185947</th>\n",
       "      <td>18:57:00</td>\n",
       "      <td>18</td>\n",
       "    </tr>\n",
       "    <tr>\n",
       "      <th>185948</th>\n",
       "      <td>18:35:00</td>\n",
       "      <td>18</td>\n",
       "    </tr>\n",
       "    <tr>\n",
       "      <th>185949</th>\n",
       "      <td>14:33:00</td>\n",
       "      <td>14</td>\n",
       "    </tr>\n",
       "  </tbody>\n",
       "</table>\n",
       "<p>185950 rows × 2 columns</p>\n",
       "</div>"
      ],
      "text/plain": [
       "            Time  Hour\n",
       "0       00:01:00     0\n",
       "1       07:03:00     7\n",
       "2       18:21:00    18\n",
       "3       15:13:00    15\n",
       "4       12:38:00    12\n",
       "...          ...   ...\n",
       "185945  19:02:00    19\n",
       "185946  19:29:00    19\n",
       "185947  18:57:00    18\n",
       "185948  18:35:00    18\n",
       "185949  14:33:00    14\n",
       "\n",
       "[185950 rows x 2 columns]"
      ]
     },
     "execution_count": 23,
     "metadata": {},
     "output_type": "execute_result"
    }
   ],
   "source": [
    "# extract the hour from the time column. \n",
    "expressmart_df['Hour'] = pd.to_datetime(expressmart_df['Time'], format='%H:%M:%S').dt.hour\n",
    "\n",
    "# Verify the change\n",
    "expressmart_df[['Time', 'Hour']]"
   ]
  },
  {
   "cell_type": "code",
   "execution_count": 24,
   "id": "ddb16b95",
   "metadata": {},
   "outputs": [
    {
     "data": {
      "text/html": [
       "<div>\n",
       "<style scoped>\n",
       "    .dataframe tbody tr th:only-of-type {\n",
       "        vertical-align: middle;\n",
       "    }\n",
       "\n",
       "    .dataframe tbody tr th {\n",
       "        vertical-align: top;\n",
       "    }\n",
       "\n",
       "    .dataframe thead th {\n",
       "        text-align: right;\n",
       "    }\n",
       "</style>\n",
       "<table border=\"1\" class=\"dataframe\">\n",
       "  <thead>\n",
       "    <tr style=\"text-align: right;\">\n",
       "      <th></th>\n",
       "      <th>Order Date</th>\n",
       "      <th>Month</th>\n",
       "    </tr>\n",
       "  </thead>\n",
       "  <tbody>\n",
       "    <tr>\n",
       "      <th>0</th>\n",
       "      <td>2019-12-30</td>\n",
       "      <td>Dec</td>\n",
       "    </tr>\n",
       "    <tr>\n",
       "      <th>1</th>\n",
       "      <td>2019-12-29</td>\n",
       "      <td>Dec</td>\n",
       "    </tr>\n",
       "    <tr>\n",
       "      <th>2</th>\n",
       "      <td>2019-12-12</td>\n",
       "      <td>Dec</td>\n",
       "    </tr>\n",
       "    <tr>\n",
       "      <th>3</th>\n",
       "      <td>2019-12-22</td>\n",
       "      <td>Dec</td>\n",
       "    </tr>\n",
       "    <tr>\n",
       "      <th>4</th>\n",
       "      <td>2019-12-18</td>\n",
       "      <td>Dec</td>\n",
       "    </tr>\n",
       "    <tr>\n",
       "      <th>...</th>\n",
       "      <td>...</td>\n",
       "      <td>...</td>\n",
       "    </tr>\n",
       "    <tr>\n",
       "      <th>185945</th>\n",
       "      <td>2019-06-07</td>\n",
       "      <td>Jun</td>\n",
       "    </tr>\n",
       "    <tr>\n",
       "      <th>185946</th>\n",
       "      <td>2019-06-01</td>\n",
       "      <td>Jun</td>\n",
       "    </tr>\n",
       "    <tr>\n",
       "      <th>185947</th>\n",
       "      <td>2019-06-22</td>\n",
       "      <td>Jun</td>\n",
       "    </tr>\n",
       "    <tr>\n",
       "      <th>185948</th>\n",
       "      <td>2019-06-26</td>\n",
       "      <td>Jun</td>\n",
       "    </tr>\n",
       "    <tr>\n",
       "      <th>185949</th>\n",
       "      <td>2019-06-25</td>\n",
       "      <td>Jun</td>\n",
       "    </tr>\n",
       "  </tbody>\n",
       "</table>\n",
       "<p>185950 rows × 2 columns</p>\n",
       "</div>"
      ],
      "text/plain": [
       "       Order Date Month\n",
       "0      2019-12-30   Dec\n",
       "1      2019-12-29   Dec\n",
       "2      2019-12-12   Dec\n",
       "3      2019-12-22   Dec\n",
       "4      2019-12-18   Dec\n",
       "...           ...   ...\n",
       "185945 2019-06-07   Jun\n",
       "185946 2019-06-01   Jun\n",
       "185947 2019-06-22   Jun\n",
       "185948 2019-06-26   Jun\n",
       "185949 2019-06-25   Jun\n",
       "\n",
       "[185950 rows x 2 columns]"
      ]
     },
     "execution_count": 24,
     "metadata": {},
     "output_type": "execute_result"
    }
   ],
   "source": [
    "# Extract the month name and create a new column 'Month'\n",
    "expressmart_df['Month'] = expressmart_df['Order Date'].dt.strftime('%b')\n",
    "\n",
    "#%b: Represents the month abbreviation (Jan, Feb, Mar, etc.)\n",
    "\n",
    "# Verify the change\n",
    "expressmart_df[['Order Date', 'Month']]"
   ]
  },
  {
   "cell_type": "code",
   "execution_count": 30,
   "id": "f1811c13",
   "metadata": {},
   "outputs": [
    {
     "data": {
      "text/html": [
       "<div>\n",
       "<style scoped>\n",
       "    .dataframe tbody tr th:only-of-type {\n",
       "        vertical-align: middle;\n",
       "    }\n",
       "\n",
       "    .dataframe tbody tr th {\n",
       "        vertical-align: top;\n",
       "    }\n",
       "\n",
       "    .dataframe thead th {\n",
       "        text-align: right;\n",
       "    }\n",
       "</style>\n",
       "<table border=\"1\" class=\"dataframe\">\n",
       "  <thead>\n",
       "    <tr style=\"text-align: right;\">\n",
       "      <th></th>\n",
       "      <th>Time</th>\n",
       "      <th>AM/PM</th>\n",
       "    </tr>\n",
       "  </thead>\n",
       "  <tbody>\n",
       "    <tr>\n",
       "      <th>0</th>\n",
       "      <td>00:01:00</td>\n",
       "      <td>AM</td>\n",
       "    </tr>\n",
       "    <tr>\n",
       "      <th>1</th>\n",
       "      <td>07:03:00</td>\n",
       "      <td>AM</td>\n",
       "    </tr>\n",
       "    <tr>\n",
       "      <th>2</th>\n",
       "      <td>18:21:00</td>\n",
       "      <td>PM</td>\n",
       "    </tr>\n",
       "    <tr>\n",
       "      <th>3</th>\n",
       "      <td>15:13:00</td>\n",
       "      <td>PM</td>\n",
       "    </tr>\n",
       "    <tr>\n",
       "      <th>4</th>\n",
       "      <td>12:38:00</td>\n",
       "      <td>PM</td>\n",
       "    </tr>\n",
       "    <tr>\n",
       "      <th>...</th>\n",
       "      <td>...</td>\n",
       "      <td>...</td>\n",
       "    </tr>\n",
       "    <tr>\n",
       "      <th>185945</th>\n",
       "      <td>19:02:00</td>\n",
       "      <td>PM</td>\n",
       "    </tr>\n",
       "    <tr>\n",
       "      <th>185946</th>\n",
       "      <td>19:29:00</td>\n",
       "      <td>PM</td>\n",
       "    </tr>\n",
       "    <tr>\n",
       "      <th>185947</th>\n",
       "      <td>18:57:00</td>\n",
       "      <td>PM</td>\n",
       "    </tr>\n",
       "    <tr>\n",
       "      <th>185948</th>\n",
       "      <td>18:35:00</td>\n",
       "      <td>PM</td>\n",
       "    </tr>\n",
       "    <tr>\n",
       "      <th>185949</th>\n",
       "      <td>14:33:00</td>\n",
       "      <td>PM</td>\n",
       "    </tr>\n",
       "  </tbody>\n",
       "</table>\n",
       "<p>185950 rows × 2 columns</p>\n",
       "</div>"
      ],
      "text/plain": [
       "            Time AM/PM\n",
       "0       00:01:00    AM\n",
       "1       07:03:00    AM\n",
       "2       18:21:00    PM\n",
       "3       15:13:00    PM\n",
       "4       12:38:00    PM\n",
       "...          ...   ...\n",
       "185945  19:02:00    PM\n",
       "185946  19:29:00    PM\n",
       "185947  18:57:00    PM\n",
       "185948  18:35:00    PM\n",
       "185949  14:33:00    PM\n",
       "\n",
       "[185950 rows x 2 columns]"
      ]
     },
     "execution_count": 30,
     "metadata": {},
     "output_type": "execute_result"
    }
   ],
   "source": [
    "# Create a function to classify AM/PM\n",
    "def classify_am_pm(time):\n",
    "    return 'AM' if time.hour < 12 else 'PM'\n",
    "\n",
    "# Apply the function to create the 'AM/PM' column\n",
    "expressmart_df['AM/PM'] = expressmart_df['Time'].apply(classify_am_pm)\n",
    "\n",
    "# Verify the change\n",
    "expressmart_df[['Time', 'AM/PM']]"
   ]
  },
  {
   "cell_type": "code",
   "execution_count": 31,
   "id": "17a00886",
   "metadata": {},
   "outputs": [
    {
     "data": {
      "text/html": [
       "<div>\n",
       "<style scoped>\n",
       "    .dataframe tbody tr th:only-of-type {\n",
       "        vertical-align: middle;\n",
       "    }\n",
       "\n",
       "    .dataframe tbody tr th {\n",
       "        vertical-align: top;\n",
       "    }\n",
       "\n",
       "    .dataframe thead th {\n",
       "        text-align: right;\n",
       "    }\n",
       "</style>\n",
       "<table border=\"1\" class=\"dataframe\">\n",
       "  <thead>\n",
       "    <tr style=\"text-align: right;\">\n",
       "      <th></th>\n",
       "      <th>Order Date</th>\n",
       "      <th>Quarter</th>\n",
       "    </tr>\n",
       "  </thead>\n",
       "  <tbody>\n",
       "    <tr>\n",
       "      <th>0</th>\n",
       "      <td>2019-12-30</td>\n",
       "      <td>Qtr 4</td>\n",
       "    </tr>\n",
       "    <tr>\n",
       "      <th>1</th>\n",
       "      <td>2019-12-29</td>\n",
       "      <td>Qtr 4</td>\n",
       "    </tr>\n",
       "    <tr>\n",
       "      <th>2</th>\n",
       "      <td>2019-12-12</td>\n",
       "      <td>Qtr 4</td>\n",
       "    </tr>\n",
       "    <tr>\n",
       "      <th>3</th>\n",
       "      <td>2019-12-22</td>\n",
       "      <td>Qtr 4</td>\n",
       "    </tr>\n",
       "    <tr>\n",
       "      <th>4</th>\n",
       "      <td>2019-12-18</td>\n",
       "      <td>Qtr 4</td>\n",
       "    </tr>\n",
       "    <tr>\n",
       "      <th>...</th>\n",
       "      <td>...</td>\n",
       "      <td>...</td>\n",
       "    </tr>\n",
       "    <tr>\n",
       "      <th>185945</th>\n",
       "      <td>2019-06-07</td>\n",
       "      <td>Qtr 2</td>\n",
       "    </tr>\n",
       "    <tr>\n",
       "      <th>185946</th>\n",
       "      <td>2019-06-01</td>\n",
       "      <td>Qtr 2</td>\n",
       "    </tr>\n",
       "    <tr>\n",
       "      <th>185947</th>\n",
       "      <td>2019-06-22</td>\n",
       "      <td>Qtr 2</td>\n",
       "    </tr>\n",
       "    <tr>\n",
       "      <th>185948</th>\n",
       "      <td>2019-06-26</td>\n",
       "      <td>Qtr 2</td>\n",
       "    </tr>\n",
       "    <tr>\n",
       "      <th>185949</th>\n",
       "      <td>2019-06-25</td>\n",
       "      <td>Qtr 2</td>\n",
       "    </tr>\n",
       "  </tbody>\n",
       "</table>\n",
       "<p>185950 rows × 2 columns</p>\n",
       "</div>"
      ],
      "text/plain": [
       "       Order Date Quarter\n",
       "0      2019-12-30   Qtr 4\n",
       "1      2019-12-29   Qtr 4\n",
       "2      2019-12-12   Qtr 4\n",
       "3      2019-12-22   Qtr 4\n",
       "4      2019-12-18   Qtr 4\n",
       "...           ...     ...\n",
       "185945 2019-06-07   Qtr 2\n",
       "185946 2019-06-01   Qtr 2\n",
       "185947 2019-06-22   Qtr 2\n",
       "185948 2019-06-26   Qtr 2\n",
       "185949 2019-06-25   Qtr 2\n",
       "\n",
       "[185950 rows x 2 columns]"
      ]
     },
     "execution_count": 31,
     "metadata": {},
     "output_type": "execute_result"
    }
   ],
   "source": [
    "# Extract the quarter and format it as 'Qtr 1', 'Qtr 2', etc.\n",
    "expressmart_df['Quarter'] = 'Qtr ' + expressmart_df['Order Date'].dt.quarter.astype(str)\n",
    "\n",
    "# Verify the change\n",
    "expressmart_df[['Order Date', 'Quarter']]"
   ]
  },
  {
   "cell_type": "code",
   "execution_count": 34,
   "id": "d74df7bc",
   "metadata": {
    "scrolled": true
   },
   "outputs": [
    {
     "data": {
      "text/html": [
       "<div>\n",
       "<style scoped>\n",
       "    .dataframe tbody tr th:only-of-type {\n",
       "        vertical-align: middle;\n",
       "    }\n",
       "\n",
       "    .dataframe tbody tr th {\n",
       "        vertical-align: top;\n",
       "    }\n",
       "\n",
       "    .dataframe thead th {\n",
       "        text-align: right;\n",
       "    }\n",
       "</style>\n",
       "<table border=\"1\" class=\"dataframe\">\n",
       "  <thead>\n",
       "    <tr style=\"text-align: right;\">\n",
       "      <th></th>\n",
       "      <th>Order Date</th>\n",
       "      <th>Year</th>\n",
       "    </tr>\n",
       "  </thead>\n",
       "  <tbody>\n",
       "    <tr>\n",
       "      <th>0</th>\n",
       "      <td>2019-12-30</td>\n",
       "      <td>2019</td>\n",
       "    </tr>\n",
       "    <tr>\n",
       "      <th>1</th>\n",
       "      <td>2019-12-29</td>\n",
       "      <td>2019</td>\n",
       "    </tr>\n",
       "    <tr>\n",
       "      <th>2</th>\n",
       "      <td>2019-12-12</td>\n",
       "      <td>2019</td>\n",
       "    </tr>\n",
       "    <tr>\n",
       "      <th>3</th>\n",
       "      <td>2019-12-22</td>\n",
       "      <td>2019</td>\n",
       "    </tr>\n",
       "    <tr>\n",
       "      <th>4</th>\n",
       "      <td>2019-12-18</td>\n",
       "      <td>2019</td>\n",
       "    </tr>\n",
       "    <tr>\n",
       "      <th>...</th>\n",
       "      <td>...</td>\n",
       "      <td>...</td>\n",
       "    </tr>\n",
       "    <tr>\n",
       "      <th>185945</th>\n",
       "      <td>2019-06-07</td>\n",
       "      <td>2019</td>\n",
       "    </tr>\n",
       "    <tr>\n",
       "      <th>185946</th>\n",
       "      <td>2019-06-01</td>\n",
       "      <td>2019</td>\n",
       "    </tr>\n",
       "    <tr>\n",
       "      <th>185947</th>\n",
       "      <td>2019-06-22</td>\n",
       "      <td>2019</td>\n",
       "    </tr>\n",
       "    <tr>\n",
       "      <th>185948</th>\n",
       "      <td>2019-06-26</td>\n",
       "      <td>2019</td>\n",
       "    </tr>\n",
       "    <tr>\n",
       "      <th>185949</th>\n",
       "      <td>2019-06-25</td>\n",
       "      <td>2019</td>\n",
       "    </tr>\n",
       "  </tbody>\n",
       "</table>\n",
       "<p>185950 rows × 2 columns</p>\n",
       "</div>"
      ],
      "text/plain": [
       "       Order Date  Year\n",
       "0      2019-12-30  2019\n",
       "1      2019-12-29  2019\n",
       "2      2019-12-12  2019\n",
       "3      2019-12-22  2019\n",
       "4      2019-12-18  2019\n",
       "...           ...   ...\n",
       "185945 2019-06-07  2019\n",
       "185946 2019-06-01  2019\n",
       "185947 2019-06-22  2019\n",
       "185948 2019-06-26  2019\n",
       "185949 2019-06-25  2019\n",
       "\n",
       "[185950 rows x 2 columns]"
      ]
     },
     "execution_count": 34,
     "metadata": {},
     "output_type": "execute_result"
    }
   ],
   "source": [
    "# Extract the year and create a new column 'Year'\n",
    "expressmart_df['Year'] = expressmart_df['Order Date'].dt.year\n",
    "\n",
    "# Verify the change\n",
    "expressmart_df[['Order Date', 'Year']]"
   ]
  },
  {
   "cell_type": "code",
   "execution_count": 43,
   "id": "7f7ac48d",
   "metadata": {},
   "outputs": [
    {
     "data": {
      "text/plain": [
       "array(['New York City', 'San Francisco', 'Atlanta', 'Portland', 'Dallas',\n",
       "       'Los Angeles', 'Boston', 'Austin', 'Seattle'], dtype=object)"
      ]
     },
     "execution_count": 43,
     "metadata": {},
     "output_type": "execute_result"
    }
   ],
   "source": [
    "# Extract city name from the 'Purchase Address' column\n",
    "expressmart_df['City'] = expressmart_df['Purchase Address'].apply(lambda x: x.split(',')[1].strip())\n",
    "\n",
    "\n",
    "\n",
    "expressmart_df['City'].unique()"
   ]
  },
  {
   "cell_type": "code",
   "execution_count": null,
   "id": "85809610",
   "metadata": {},
   "outputs": [],
   "source": []
  },
  {
   "cell_type": "code",
   "execution_count": null,
   "id": "4714e8e6",
   "metadata": {},
   "outputs": [],
   "source": []
  },
  {
   "cell_type": "markdown",
   "id": "4333ec27",
   "metadata": {},
   "source": [
    "### Performing some Exploratory Data Analysis (EDA)"
   ]
  },
  {
   "cell_type": "code",
   "execution_count": 37,
   "id": "6cdb1e2f",
   "metadata": {
    "scrolled": true
   },
   "outputs": [
    {
     "name": "stdout",
     "output_type": "stream",
     "text": [
      "Total Quantity: 209079\n",
      "Total Sales: 34492035.97\n",
      "Total Products: 19\n"
     ]
    }
   ],
   "source": [
    "# Calculate the total quantity\n",
    "total_quantity = expressmart_df['Quantity Ordered'].sum()\n",
    "\n",
    "# Calculate the total sales\n",
    "total_sales = expressmart_df['Sales'].sum()\n",
    "\n",
    "# Calculate the total number of unique products\n",
    "total_products = expressmart_df['Product'].nunique()\n",
    "\n",
    "print(f\"Total Quantity: {total_quantity}\")\n",
    "print(f\"Total Sales: {total_sales}\")\n",
    "print(f\"Total Products: {total_products}\")"
   ]
  },
  {
   "cell_type": "code",
   "execution_count": null,
   "id": "85bc12e3",
   "metadata": {},
   "outputs": [],
   "source": []
  },
  {
   "cell_type": "markdown",
   "id": "fc8ac2e3",
   "metadata": {},
   "source": [
    "### Creating visuals"
   ]
  },
  {
   "cell_type": "code",
   "execution_count": 46,
   "id": "da0a75c9",
   "metadata": {
    "scrolled": false
   },
   "outputs": [
    {
     "data": {
      "image/png": "[encoded data removed]",
      "text/plain": [
       "<Figure size 720x432 with 1 Axes>"
      ]
     },
     "metadata": {
      "needs_background": "light"
     },
     "output_type": "display_data"
    }
   ],
   "source": [
    "# Group by month and sum sales\n",
    "monthly_sales = expressmart_df.groupby('Month')['Sales'].sum().reindex(['Jan', 'Feb', 'Mar', 'Apr', 'May', 'Jun', 'Jul', 'Aug', 'Sep', 'Oct', 'Nov', 'Dec'])\n",
    "\n",
    "# Plot the histogram using Seaborn\n",
    "plt.figure(figsize=(10, 6))\n",
    "sns.barplot(x=monthly_sales.index, y=monthly_sales.values, palette='viridis')\n",
    "\n",
    "\n",
    "plt.title('Sales By Month')\n",
    "plt.xlabel('Month')\n",
    "plt.ylabel('Total Sales')\n",
    "plt.show()"
   ]
  },
  {
   "cell_type": "code",
   "execution_count": 40,
   "id": "ef9c826c",
   "metadata": {},
   "outputs": [
    {
     "data": {
      "text/plain": [
       "Month\n",
       "Jan    1822256.73\n",
       "Feb    2202022.42\n",
       "Mar    2807100.38\n",
       "Apr    3390670.24\n",
       "May    3152606.75\n",
       "Jun    2577802.26\n",
       "Jul    2647775.76\n",
       "Aug    2244467.88\n",
       "Sep    2097560.13\n",
       "Oct    3736726.88\n",
       "Nov    3199603.20\n",
       "Dec    4613443.34\n",
       "Name: Sales, dtype: float64"
      ]
     },
     "execution_count": 40,
     "metadata": {},
     "output_type": "execute_result"
    }
   ],
   "source": [
    "monthly_sales"
   ]
  },
  {
   "cell_type": "code",
   "execution_count": null,
   "id": "bbcdd051",
   "metadata": {},
   "outputs": [],
   "source": []
  },
  {
   "cell_type": "code",
   "execution_count": null,
   "id": "37444268",
   "metadata": {},
   "outputs": [],
   "source": []
  },
  {
   "cell_type": "code",
   "execution_count": 61,
   "id": "ad831f71",
   "metadata": {
    "scrolled": false
   },
   "outputs": [
    {
     "data": {
      "image/png": "[encoded data removed]",
      "text/plain": [
       "<Figure size 720x432 with 1 Axes>"
      ]
     },
     "metadata": {
      "needs_background": "light"
     },
     "output_type": "display_data"
    }
   ],
   "source": [
    "# Group by the 'City' column and sum sales\n",
    "city_sales = expressmart_df.groupby('City')['Sales'].sum()\n",
    "\n",
    "# Plot the bar chart using Seaborn\n",
    "plt.figure(figsize=(10, 6))\n",
    "sns.barplot(x=city_sales.index, y=city_sales.values, palette='magma')\n",
    "\n",
    "\n",
    "plt.title('Sales by City')\n",
    "plt.xlabel('City')\n",
    "plt.ylabel('Total Sales')\n",
    "plt.xticks(rotation=45)\n",
    "plt.show()"
   ]
  },
  {
   "cell_type": "code",
   "execution_count": 45,
   "id": "1c1a62a2",
   "metadata": {
    "scrolled": true
   },
   "outputs": [
    {
     "data": {
      "text/plain": [
       "City\n",
       "Atlanta          2795498.58\n",
       "Austin           1819581.75\n",
       "Boston           3661642.01\n",
       "Dallas           2767975.40\n",
       "Los Angeles      5452570.80\n",
       "New York City    4664317.43\n",
       "Portland         2320490.61\n",
       "San Francisco    8262203.91\n",
       "Seattle          2747755.48\n",
       "Name: Sales, dtype: float64"
      ]
     },
     "execution_count": 45,
     "metadata": {},
     "output_type": "execute_result"
    }
   ],
   "source": [
    "city_sales"
   ]
  },
  {
   "cell_type": "code",
   "execution_count": null,
   "id": "27020038",
   "metadata": {},
   "outputs": [],
   "source": []
  },
  {
   "cell_type": "code",
   "execution_count": 47,
   "id": "fe588b64",
   "metadata": {},
   "outputs": [
    {
     "data": {
      "image/png": "[encoded data removed]",
      "text/plain": [
       "<Figure size 720x432 with 1 Axes>"
      ]
     },
     "metadata": {
      "needs_background": "light"
     },
     "output_type": "display_data"
    }
   ],
   "source": [
    "# Group by 'Product' and sum the sales\n",
    "product_sales = expressmart_df.groupby('Product')['Sales'].sum()\n",
    "\n",
    "# Sort the product sales in descending order and get the top 5 products\n",
    "top_5_products = product_sales.sort_values(ascending=False).head(5)\n",
    "\n",
    "# Plot the bar graph using Seaborn\n",
    "plt.figure(figsize=(10, 6))\n",
    "sns.barplot(x=top_5_products.values, y=top_5_products.index, palette='coolwarm')\n",
    "\n",
    "# Add data labels\n",
    "for index, value in enumerate(top_5_products.values):\n",
    "    plt.text(value, index, f'{value:.2f}', color='black', va='center')\n",
    "\n",
    "plt.title('Top 5 Products by Sales')\n",
    "plt.xlabel('Total Sales')\n",
    "plt.ylabel('Products')\n",
    "plt.show()"
   ]
  },
  {
   "cell_type": "code",
   "execution_count": 48,
   "id": "ecfcb6d1",
   "metadata": {
    "scrolled": true
   },
   "outputs": [
    {
     "data": {
      "text/plain": [
       "Product\n",
       "Macbook Pro Laptop        8037600.00\n",
       "iPhone                    4794300.00\n",
       "ThinkPad Laptop           4129958.70\n",
       "Google Phone              3319200.00\n",
       "27in 4K Gaming Monitor    2435097.56\n",
       "Name: Sales, dtype: float64"
      ]
     },
     "execution_count": 48,
     "metadata": {},
     "output_type": "execute_result"
    }
   ],
   "source": [
    "top_5_products"
   ]
  },
  {
   "cell_type": "code",
   "execution_count": null,
   "id": "88548262",
   "metadata": {},
   "outputs": [],
   "source": []
  },
  {
   "cell_type": "code",
   "execution_count": 49,
   "id": "b3b7c3b2",
   "metadata": {},
   "outputs": [
    {
     "data": {
      "image/png": "[encoded data removed]",
      "text/plain": [
       "<Figure size 576x576 with 1 Axes>"
      ]
     },
     "metadata": {},
     "output_type": "display_data"
    }
   ],
   "source": [
    "# Group by quarter and sum sales\n",
    "quarterly_sales = expressmart_df.groupby('Quarter')['Sales'].sum()\n",
    "\n",
    "# Plot the pie chart\n",
    "plt.figure(figsize=(8, 8))\n",
    "colors = sns.color_palette('pastel')[0:4]\n",
    "plt.pie(quarterly_sales, labels=quarterly_sales.index, autopct='%1.1f%%', colors=colors, startangle=140)\n",
    "\n",
    "plt.title('Sales by Quarter')\n",
    "plt.show()"
   ]
  },
  {
   "cell_type": "code",
   "execution_count": 50,
   "id": "8e20b060",
   "metadata": {},
   "outputs": [
    {
     "data": {
      "text/plain": [
       "Quarter\n",
       "Qtr 1     6831379.53\n",
       "Qtr 2     9121079.25\n",
       "Qtr 3     6989803.77\n",
       "Qtr 4    11549773.42\n",
       "Name: Sales, dtype: float64"
      ]
     },
     "execution_count": 50,
     "metadata": {},
     "output_type": "execute_result"
    }
   ],
   "source": [
    "quarterly_sales"
   ]
  },
  {
   "cell_type": "code",
   "execution_count": null,
   "id": "b3dbd70b",
   "metadata": {},
   "outputs": [],
   "source": []
  },
  {
   "cell_type": "code",
   "execution_count": 57,
   "id": "ff64407c",
   "metadata": {},
   "outputs": [
    {
     "data": {
      "image/png": "[encoded data removed]",
      "text/plain": [
       "<Figure size 864x432 with 1 Axes>"
      ]
     },
     "metadata": {
      "needs_background": "light"
     },
     "output_type": "display_data"
    }
   ],
   "source": [
    "# Group by hour and sum the quantity ordered\n",
    "hourly_quantity = expressmart_df.groupby('Hour')['Quantity Ordered'].sum()\n",
    "\n",
    "# Plot the line graph using Seaborn\n",
    "plt.figure(figsize=(12, 6))\n",
    "sns.lineplot(x=hourly_quantity.index, y=hourly_quantity.values, marker='o', linestyle='-', color='b')\n",
    "\n",
    "\n",
    "\n",
    "plt.title('Quantity Ordered by Hour')\n",
    "plt.xlabel('Hour of Day')\n",
    "plt.ylabel('Total Quantity Ordered')\n",
    "plt.grid(True)\n",
    "plt.xticks(range(0, 24))  # Ensure all hours are shown on x-axis\n",
    "plt.show()"
   ]
  },
  {
   "cell_type": "code",
   "execution_count": 54,
   "id": "a6bd9e6a",
   "metadata": {},
   "outputs": [
    {
     "data": {
      "text/plain": [
       "Hour\n",
       "0      4428\n",
       "1      2619\n",
       "2      1398\n",
       "3       928\n",
       "4       937\n",
       "5      1493\n",
       "6      2810\n",
       "7      4556\n",
       "8      7002\n",
       "9      9816\n",
       "10    12308\n",
       "11    14005\n",
       "12    14202\n",
       "13    13685\n",
       "14    12362\n",
       "15    11391\n",
       "16    11662\n",
       "17    12229\n",
       "18    13802\n",
       "19    14470\n",
       "20    13768\n",
       "21    12244\n",
       "22     9899\n",
       "23     7065\n",
       "Name: Quantity Ordered, dtype: int64"
      ]
     },
     "execution_count": 54,
     "metadata": {},
     "output_type": "execute_result"
    }
   ],
   "source": [
    "hourly_quantity"
   ]
  },
  {
   "cell_type": "markdown",
   "id": "df6a3e90",
   "metadata": {},
   "source": [
    "## Insights\n",
    "\n",
    "1. **Sales by Month**:\n",
    "   - **December** had the highest sales at **\\$4,613,443.34**, followed closely by **October** at **\\$3,736,726.88**.\n",
    "   - Sales dipped in **September** to **\\$2,097,560.13**, indicating it was one of the slower months.\n",
    "   - Sales show a general upward trend from January to May, peaking in December, suggesting that **seasonal factors**, particularly holiday months, play a significant role.\n",
    "\n",
    "2. **Sales by City**:\n",
    "   - **San Francisco** led sales by a substantial margin, achieving **\\$8,262,203.91**, indicating strong demand in the area.\n",
    "   - **Los Angeles** and **New York City** followed, with sales figures of **\\$5,452,570.80** and **\\$4,664,317.43**, respectively.\n",
    "   - Smaller cities like **Austin** and **Portland** had lower sales, around **\\$1,819,581.75** and **\\$2,320,490.61**, respectively, which might point to differing customer bases or regional preferences.\n",
    "\n",
    "3. **Top 5 Products by Sales**:\n",
    "   - The **Macbook Pro Laptop** was the top-selling product, generating **\\$8,037,600.00**, followed by the **iPhone** and **ThinkPad Laptop** with **\\$4,794,300.00** and **\\$4,129,958.70**, respectively.\n",
    "   - High-end tech products dominated sales, suggesting a customer base that values premium technology.\n",
    "   - The **Google Phone** and **27in 4K Gaming Monitor** also performed well, showing customer interest in both mobile and gaming technologies.\n",
    "\n",
    "4. **Sales by Quarter**:\n",
    "   - The **fourth quarter** generated the highest sales, totaling **\\$11,549,773.42**, likely due to holiday spending.\n",
    "   - Sales were lowest in **Q1**, indicating that the **first quarter** is a slower season for ExpressMart.\n",
    "   - The significant rise in Q4 suggests the impact of **year-end spending**, a trend that could be leveraged for targeted marketing efforts.\n",
    "\n",
    "5. **Quantity Ordered by Hour of Day**:\n",
    "   - The highest order quantities occurred from **11 AM to 8 PM**, with peaks around midday and evening (**12 PM: 14,202**, **7 PM: 14,470**).\n",
    "   - Order quantities were lowest between **midnight and early morning** (12 AM to 4 AM), likely due to reduced customer activity.\n",
    "   - Afternoon and evening peaks indicate **times of high demand**, which can inform staffing and operational planning.\n"
   ]
  },
  {
   "cell_type": "markdown",
   "id": "a975e79a",
   "metadata": {},
   "source": [
    "## Recommendations\n",
    "\n",
    "1. **Optimizing Staffing and Inventory for Peak Sales Periods**:\n",
    "   - **Staffing**: Increase staffing levels between 11 AM and 8 PM, especially around the midday and evening peaks, to manage high order volumes and ensure a seamless customer experience. Additional training for peak hour efficiency could further streamline operations.\n",
    "   - **Inventory Management**: Stock essential items, particularly top-performing products, more heavily during Q4 and holiday months like December. Implement automated reorder thresholds for popular items to prevent stockouts during these high-demand periods.\n",
    "\n",
    "2. **Marketing Strategies for Top Performing and Underperforming Products**:\n",
    "   - **Top Performers**: Emphasize high-end technology products, such as the Macbook Pro, iPhone, and ThinkPad Laptop, in marketing campaigns to maintain their visibility. Consider bundling these items with accessories or offering limited-time discounts to enhance their appeal.\n",
    "   - **Underperforming Products**: Analyze the underperforming product categories to determine the cause of low sales. Target these items with promotional discounts, bundle offers, or strategic positioning in-store and online to boost interest.\n",
    "\n",
    "3. **Targeted Regional Marketing Campaigns**:\n",
    "   - **High-Performing Cities**: In cities with high sales volumes like San Francisco, Los Angeles, and New York City, maintain a steady advertising presence. Invest in local marketing partnerships and explore community-based promotions to reinforce customer loyalty.\n",
    "   - **Growth Opportunities in Smaller Markets**: For cities like Austin and Portland, explore targeted campaigns aimed at growing the customer base. Focus on digital advertising tailored to these regions, offering region-specific discounts or loyalty programs to attract new customers.\n",
    "\n",
    "4. **Tailoring Marketing to Customer Purchasing Behaviors**:\n",
    "   - **Demographic-Based Campaigns**: Use demographic data to segment customers by age, income level, and preferences, allowing for customized campaigns that better resonate with specific groups.\n",
    "   - **Personalized Recommendations**: Implement a recommendation engine based on past purchases to offer personalized suggestions, increasing the likelihood of repeat purchases and boosting sales.\n",
    "\n",
    "5. **Seasonal Campaigns for Low-Performing Months**:\n",
    "   - **Q1 Sales Boost**: Plan post-holiday promotions in January and February to counteract the typical Q1 sales slump. Options include clearance sales on older inventory or a “New Year, New Tech” campaign.\n",
    "   - **End-of-Summer Strategies**: In slower months like August and September, introduce back-to-school or pre-fall promotions to stimulate demand. Consider a “back-to-work” campaign for office supplies or tech upgrades, appealing to both students and professionals returning to their routines.\n"
   ]
  },
  {
   "cell_type": "code",
   "execution_count": null,
   "id": "4521934c",
   "metadata": {},
   "outputs": [],
   "source": []
  }
 ],
 "metadata": {
  "kernelspec": {
   "display_name": "Python 3 (ipykernel)",
   "language": "python",
   "name": "python3"
  },
  "language_info": {
   "codemirror_mode": {
    "name": "ipython",
    "version": 3
   },
   "file_extension": ".py",
   "mimetype": "text/x-python",
   "name": "python",
   "nbconvert_exporter": "python",
   "pygments_lexer": "ipython3",
   "version": "3.9.12"
  },
  "nbTranslate": {
   "displayLangs": [
    "*"
   ],
   "hotkey": "alt-t",
   "langInMainMenu": true,
   "sourceLang": "en",
   "targetLang": "fr",
   "useGoogleTranslate": true
  },
  "varInspector": {
   "cols": {
    "lenName": 16,
    "lenType": 16,
    "lenVar": 40
   },
   "kernels_config": {
    "python": {
     "delete_cmd_postfix": "",
     "delete_cmd_prefix": "del ",
     "library": "var_list.py",
     "varRefreshCmd": "print(var_dic_list())"
    },
    "r": {
     "delete_cmd_postfix": ") ",
     "delete_cmd_prefix": "rm(",
     "library": "var_list.r",
     "varRefreshCmd": "cat(var_dic_list()) "
    }
   },
   "types_to_exclude": [
    "module",
    "function",
    "builtin_function_or_method",
    "instance",
    "_Feature"
   ],
   "window_display": false
  }
 },
 "nbformat": 4,
 "nbformat_minor": 5
}
